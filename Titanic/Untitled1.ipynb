{
 "cells": [
  {
   "cell_type": "code",
   "execution_count": 51,
   "metadata": {},
   "outputs": [
    {
     "name": "stdout",
     "output_type": "stream",
     "text": [
      "bana b 4\n",
      "2\n",
      "anan b 4\n",
      "2\n",
      "nana b 4\n",
      "2\n",
      "anas b 4\n",
      "2\n",
      "ban b 3\n",
      "2\n",
      "ana b 3\n",
      "1\n",
      "banana ana 6\n",
      "2\n",
      "ananas ana 6\n",
      "2\n",
      "bana ana 4\n",
      "2\n",
      "anan ana 4\n",
      "2\n",
      "nana ana 4\n",
      "2\n",
      "anas ana 4\n",
      "2\n",
      "ban ana 3\n",
      "2\n",
      "ana ana 3\n",
      "2\n",
      "nan ana 3\n",
      "2\n",
      "ana ana 3\n",
      "2\n",
      "nas ana 3\n",
      "2\n",
      "ba ana 2\n",
      "2\n",
      "an ana 2\n",
      "2\n",
      "na ana 2\n",
      "2\n",
      "an ana 2\n",
      "2\n",
      "na ana 2\n",
      "2\n",
      "as ana 2\n",
      "2\n",
      "4\n"
     ]
    },
    {
     "data": {
      "text/plain": [
       "'ana'"
      ]
     },
     "execution_count": 51,
     "metadata": {},
     "output_type": "execute_result"
    }
   ],
   "source": [
    "    def longestPalindrome(s: str):\n",
    "        if not s:\n",
    "            return ''\n",
    "        if len(s) == 1:\n",
    "            return s\n",
    "        if s == s[::-1]:\n",
    "            return s\n",
    "\n",
    "        sub_l_max = 1\n",
    "        sub_max = s[0]\n",
    "\n",
    "        for i in range(2):\n",
    "            \n",
    "\n",
    "    longestPalindrome(\"bananas\")"
   ]
  },
  {
   "cell_type": "code",
   "execution_count": null,
   "metadata": {},
   "outputs": [],
   "source": [
    "7 // 2 \n",
    "aga\n",
    "\n",
    "3 + 4 // 2\n",
    "\n",
    "agaga\n",
    "\n",
    "----\n",
    "1 + 7 // 2\n",
    "agag gaga ...\n",
    "\n",
    "1 + 4 // 2\n",
    "aga\n",
    "\n",
    "3 + 4 // 2\n",
    "agaga ...\n",
    "\n",
    "5 + 4 // 2\n",
    "\n"
   ]
  }
 ],
 "metadata": {
  "kernelspec": {
   "display_name": "venv2",
   "language": "python",
   "name": "venv2"
  },
  "language_info": {
   "codemirror_mode": {
    "name": "ipython",
    "version": 3
   },
   "file_extension": ".py",
   "mimetype": "text/x-python",
   "name": "python",
   "nbconvert_exporter": "python",
   "pygments_lexer": "ipython3",
   "version": "3.8.2"
  }
 },
 "nbformat": 4,
 "nbformat_minor": 4
}
