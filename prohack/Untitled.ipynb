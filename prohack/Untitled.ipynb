{
 "cells": [
  {
   "cell_type": "code",
   "execution_count": 65,
   "metadata": {},
   "outputs": [],
   "source": [
    "import numpy as np\n",
    "import pandas as pd\n",
    "from tensorflow import keras\n",
    "\n",
    "np.set_printoptions(precision=2, formatter={'float':'{:,.2f}'.format})"
   ]
  },
  {
   "cell_type": "code",
   "execution_count": 36,
   "metadata": {},
   "outputs": [],
   "source": [
    "x1 = np.array([x for x in range(50)]).reshape(-1,1)\n",
    "x2 = np.array([10 * x for x in range(1, 51)]).reshape(-1,1)\n",
    "x3 = np.array([10 * x for x in reversed(range(50))]).reshape(-1,1)\n",
    "\n",
    "f = (x1 * x3 / x2) ** .5"
   ]
  },
  {
   "cell_type": "code",
   "execution_count": 37,
   "metadata": {
    "scrolled": true
   },
   "outputs": [
    {
     "data": {
      "text/plain": [
       "array([[0.00, 10.00, 490.00, 0.00],\n",
       "       [1.00, 20.00, 480.00, 4.90],\n",
       "       [2.00, 30.00, 470.00, 5.60],\n",
       "       [3.00, 40.00, 460.00, 5.87],\n",
       "       [4.00, 50.00, 450.00, 6.00],\n",
       "       [5.00, 60.00, 440.00, 6.06],\n",
       "       [6.00, 70.00, 430.00, 6.07],\n",
       "       [7.00, 80.00, 420.00, 6.06],\n",
       "       [8.00, 90.00, 410.00, 6.04],\n",
       "       [9.00, 100.00, 400.00, 6.00],\n",
       "       [10.00, 110.00, 390.00, 5.95],\n",
       "       [11.00, 120.00, 380.00, 5.90],\n",
       "       [12.00, 130.00, 370.00, 5.84],\n",
       "       [13.00, 140.00, 360.00, 5.78],\n",
       "       [14.00, 150.00, 350.00, 5.72],\n",
       "       [15.00, 160.00, 340.00, 5.65],\n",
       "       [16.00, 170.00, 330.00, 5.57],\n",
       "       [17.00, 180.00, 320.00, 5.50],\n",
       "       [18.00, 190.00, 310.00, 5.42],\n",
       "       [19.00, 200.00, 300.00, 5.34],\n",
       "       [20.00, 210.00, 290.00, 5.26],\n",
       "       [21.00, 220.00, 280.00, 5.17],\n",
       "       [22.00, 230.00, 270.00, 5.08],\n",
       "       [23.00, 240.00, 260.00, 4.99],\n",
       "       [24.00, 250.00, 250.00, 4.90],\n",
       "       [25.00, 260.00, 240.00, 4.80],\n",
       "       [26.00, 270.00, 230.00, 4.71],\n",
       "       [27.00, 280.00, 220.00, 4.61],\n",
       "       [28.00, 290.00, 210.00, 4.50],\n",
       "       [29.00, 300.00, 200.00, 4.40],\n",
       "       [30.00, 310.00, 190.00, 4.29],\n",
       "       [31.00, 320.00, 180.00, 4.18],\n",
       "       [32.00, 330.00, 170.00, 4.06],\n",
       "       [33.00, 340.00, 160.00, 3.94],\n",
       "       [34.00, 350.00, 150.00, 3.82],\n",
       "       [35.00, 360.00, 140.00, 3.69],\n",
       "       [36.00, 370.00, 130.00, 3.56],\n",
       "       [37.00, 380.00, 120.00, 3.42],\n",
       "       [38.00, 390.00, 110.00, 3.27],\n",
       "       [39.00, 400.00, 100.00, 3.12],\n",
       "       [40.00, 410.00, 90.00, 2.96],\n",
       "       [41.00, 420.00, 80.00, 2.79],\n",
       "       [42.00, 430.00, 70.00, 2.61],\n",
       "       [43.00, 440.00, 60.00, 2.42],\n",
       "       [44.00, 450.00, 50.00, 2.21],\n",
       "       [45.00, 460.00, 40.00, 1.98],\n",
       "       [46.00, 470.00, 30.00, 1.71],\n",
       "       [47.00, 480.00, 20.00, 1.40],\n",
       "       [48.00, 490.00, 10.00, 0.99],\n",
       "       [49.00, 500.00, 0.00, 0.00]])"
      ]
     },
     "execution_count": 37,
     "metadata": {},
     "output_type": "execute_result"
    }
   ],
   "source": [
    "data = np.concatenate((x1, x2, x3, f), axis=1)\n",
    "data"
   ]
  },
  {
   "cell_type": "code",
   "execution_count": 61,
   "metadata": {},
   "outputs": [],
   "source": [
    "data[[3,13,33,45,6],1] = np.NaN\n",
    "data[[2,15,40,49],2] = np.NaN\n",
    "data[[1,11,22,44],3] = np.NaN\n",
    "#data[3,[2,12,22]] = np.nanmean(data[:,2])"
   ]
  },
  {
   "cell_type": "code",
   "execution_count": 67,
   "metadata": {},
   "outputs": [
    {
     "data": {
      "text/html": [
       "<div>\n",
       "<style scoped>\n",
       "    .dataframe tbody tr th:only-of-type {\n",
       "        vertical-align: middle;\n",
       "    }\n",
       "\n",
       "    .dataframe tbody tr th {\n",
       "        vertical-align: top;\n",
       "    }\n",
       "\n",
       "    .dataframe thead th {\n",
       "        text-align: right;\n",
       "    }\n",
       "</style>\n",
       "<table border=\"1\" class=\"dataframe\">\n",
       "  <thead>\n",
       "    <tr style=\"text-align: right;\">\n",
       "      <th></th>\n",
       "      <th>0</th>\n",
       "      <th>1</th>\n",
       "      <th>2</th>\n",
       "      <th>3</th>\n",
       "    </tr>\n",
       "  </thead>\n",
       "  <tbody>\n",
       "    <tr>\n",
       "      <th>0</th>\n",
       "      <td>1.000000</td>\n",
       "      <td>1.000000</td>\n",
       "      <td>-1.000000</td>\n",
       "      <td>-0.741901</td>\n",
       "    </tr>\n",
       "    <tr>\n",
       "      <th>1</th>\n",
       "      <td>1.000000</td>\n",
       "      <td>1.000000</td>\n",
       "      <td>-1.000000</td>\n",
       "      <td>-0.709079</td>\n",
       "    </tr>\n",
       "    <tr>\n",
       "      <th>2</th>\n",
       "      <td>-1.000000</td>\n",
       "      <td>-1.000000</td>\n",
       "      <td>1.000000</td>\n",
       "      <td>0.709099</td>\n",
       "    </tr>\n",
       "    <tr>\n",
       "      <th>3</th>\n",
       "      <td>-0.741901</td>\n",
       "      <td>-0.709079</td>\n",
       "      <td>0.709099</td>\n",
       "      <td>1.000000</td>\n",
       "    </tr>\n",
       "  </tbody>\n",
       "</table>\n",
       "</div>"
      ],
      "text/plain": [
       "          0         1         2         3\n",
       "0  1.000000  1.000000 -1.000000 -0.741901\n",
       "1  1.000000  1.000000 -1.000000 -0.709079\n",
       "2 -1.000000 -1.000000  1.000000  0.709099\n",
       "3 -0.741901 -0.709079  0.709099  1.000000"
      ]
     },
     "execution_count": 67,
     "metadata": {},
     "output_type": "execute_result"
    }
   ],
   "source": [
    "pd.DataFrame(data).corr()"
   ]
  },
  {
   "cell_type": "code",
   "execution_count": 59,
   "metadata": {},
   "outputs": [
    {
     "data": {
      "text/plain": [
       "0.1471848225083655"
      ]
     },
     "execution_count": 59,
     "metadata": {},
     "output_type": "execute_result"
    }
   ],
   "source": [
    "from sklearn.linear_model import LinearRegression\n",
    "from sklearn.ensemble import RandomForestRegressor, GradientBoostingRegressor\n",
    "from sklearn.neural_network import MLPRegressor\n",
    "from sklearn.model_selection import ShuffleSplit, train_test_split\n",
    "from sklearn.impute import SimpleImputer\n",
    "\n",
    "imp = SimpleImputer(strategy='constant', fill_value=0)\n",
    "data = imp.fit_transform(data)\n",
    "\n",
    "alg = MLPRegressor(max_iter=10000, hidden_layer_sizes=(3, 3, 3), random_state=222)\n",
    "\n",
    "data_train, data_test = train_test_split(data, random_state=51)\n",
    "\n",
    "alg.fit(data_train[:,:-1], data_train[:,-1])\n",
    "alg.score(data_test[:,:-1], data_test[:,-1])"
   ]
  },
  {
   "cell_type": "code",
   "execution_count": 60,
   "metadata": {},
   "outputs": [
    {
     "data": {
      "text/plain": [
       "(array([2.53, 4.30]), 5.0, 5.0)"
      ]
     },
     "execution_count": 60,
     "metadata": {},
     "output_type": "execute_result"
    }
   ],
   "source": [
    "alg.predict(np.array([[500,2000,100], [5, 2, 10]])), (500 * 100/2000) ** .5, (5 * 10/2) ** .5"
   ]
  },
  {
   "cell_type": "code",
   "execution_count": 196,
   "metadata": {},
   "outputs": [
    {
     "data": {
      "text/plain": [
       "array([[33.00, 0.00, 9.00, 104.36, 7.40],\n",
       "       [14.00, 140.00, 18.50, 44.27, 55.68],\n",
       "       [4.00, 40.00, 23.50, 12.65, 20.03],\n",
       "       [12.00, 120.00, 19.50, 37.95, 48.61],\n",
       "       [49.00, 490.00, 0.00, 154.95, 175.94],\n",
       "       [0.00, 0.00, 1,000.00, 0.00, -29.28],\n",
       "       [34.00, 340.00, 8.50, 107.52, 124.69],\n",
       "       [15.00, 150.00, 0.00, 47.43, 53.92],\n",
       "       [38.00, 380.00, 6.50, 120.17, 138.46],\n",
       "       [31.00, 310.00, 10.00, 98.03, 114.36],\n",
       "       [17.00, 170.00, 17.00, 53.76, 66.16],\n",
       "       [46.00, 460.00, 2.50, 145.46, 166.00],\n",
       "       [2.00, 20.00, 0.00, 6.32, 7.26]])"
      ]
     },
     "execution_count": 196,
     "metadata": {},
     "output_type": "execute_result"
    }
   ],
   "source": [
    "np.concatenate((data_test, alg.predict(data_test[:,:-1]).reshape(-1,1)), axis=1)"
   ]
  },
  {
   "cell_type": "code",
   "execution_count": 204,
   "metadata": {},
   "outputs": [
    {
     "data": {
      "text/plain": [
       "array([2,844.98])"
      ]
     },
     "execution_count": 204,
     "metadata": {},
     "output_type": "execute_result"
    }
   ],
   "source": [
    "alg.predict(np.array([900, 9000, 0]).reshape(1,-1))"
   ]
  },
  {
   "cell_type": "code",
   "execution_count": 206,
   "metadata": {},
   "outputs": [
    {
     "data": {
      "text/plain": [
       "2846.0498941515416"
      ]
     },
     "execution_count": 206,
     "metadata": {},
     "output_type": "execute_result"
    }
   ],
   "source": [
    "(900 * 9000) ** .5"
   ]
  },
  {
   "cell_type": "code",
   "execution_count": 104,
   "metadata": {},
   "outputs": [
    {
     "ename": "NameError",
     "evalue": "name 'SimpleImputer' is not defined",
     "output_type": "error",
     "traceback": [
      "\u001b[0;31m---------------------------------------------------------------------------\u001b[0m",
      "\u001b[0;31mNameError\u001b[0m                                 Traceback (most recent call last)",
      "\u001b[0;32m<ipython-input-104-1dfd0a974d19>\u001b[0m in \u001b[0;36m<module>\u001b[0;34m\u001b[0m\n\u001b[0;32m----> 1\u001b[0;31m \u001b[0mimp\u001b[0m \u001b[0;34m=\u001b[0m \u001b[0mSimpleImputer\u001b[0m\u001b[0;34m(\u001b[0m\u001b[0;34m)\u001b[0m\u001b[0;34m\u001b[0m\u001b[0;34m\u001b[0m\u001b[0m\n\u001b[0m\u001b[1;32m      2\u001b[0m \u001b[0mimp\u001b[0m\u001b[0;34m(\u001b[0m\u001b[0mdata\u001b[0m\u001b[0;34m)\u001b[0m\u001b[0;34m\u001b[0m\u001b[0;34m\u001b[0m\u001b[0m\n",
      "\u001b[0;31mNameError\u001b[0m: name 'SimpleImputer' is not defined"
     ]
    }
   ],
   "source": [
    "imp = SimpleImputer()\n",
    "imp(data)"
   ]
  },
  {
   "cell_type": "code",
   "execution_count": 1,
   "metadata": {},
   "outputs": [
    {
     "ename": "NameError",
     "evalue": "name 'eggholder' is not defined",
     "output_type": "error",
     "traceback": [
      "\u001b[0;31m---------------------------------------------------------------------------\u001b[0m",
      "\u001b[0;31mNameError\u001b[0m                                 Traceback (most recent call last)",
      "\u001b[0;32m<ipython-input-1-e2255f09bd31>\u001b[0m in \u001b[0;36m<module>\u001b[0;34m\u001b[0m\n\u001b[1;32m      1\u001b[0m \u001b[0;32mfrom\u001b[0m \u001b[0mscipy\u001b[0m \u001b[0;32mimport\u001b[0m \u001b[0moptimize\u001b[0m\u001b[0;34m\u001b[0m\u001b[0;34m\u001b[0m\u001b[0m\n\u001b[0;32m----> 2\u001b[0;31m \u001b[0moptimize\u001b[0m\u001b[0;34m.\u001b[0m\u001b[0mshgo\u001b[0m\u001b[0;34m(\u001b[0m\u001b[0meggholder\u001b[0m\u001b[0;34m,\u001b[0m \u001b[0mbounds\u001b[0m\u001b[0;34m)\u001b[0m\u001b[0;34m\u001b[0m\u001b[0;34m\u001b[0m\u001b[0m\n\u001b[0m",
      "\u001b[0;31mNameError\u001b[0m: name 'eggholder' is not defined"
     ]
    }
   ],
   "source": [
    "from scipy import optimize\n",
    "optimize.shgo(eggholder, bounds)"
   ]
  },
  {
   "cell_type": "code",
   "execution_count": 2,
   "metadata": {},
   "outputs": [
    {
     "data": {
      "text/plain": [
       "2.302585092994046"
      ]
     },
     "execution_count": 2,
     "metadata": {},
     "output_type": "execute_result"
    }
   ],
   "source": [
    "import numpy as np\n",
    "np.log(10)"
   ]
  },
  {
   "cell_type": "code",
   "execution_count": 3,
   "metadata": {},
   "outputs": [
    {
     "data": {
      "text/plain": [
       "10.000000000000002"
      ]
     },
     "execution_count": 3,
     "metadata": {},
     "output_type": "execute_result"
    }
   ],
   "source": [
    "np.exp(np.log(10))"
   ]
  },
  {
   "cell_type": "code",
   "execution_count": null,
   "metadata": {},
   "outputs": [],
   "source": []
  }
 ],
 "metadata": {
  "kernelspec": {
   "display_name": "venv2",
   "language": "python",
   "name": "venv2"
  },
  "language_info": {
   "codemirror_mode": {
    "name": "ipython",
    "version": 3
   },
   "file_extension": ".py",
   "mimetype": "text/x-python",
   "name": "python",
   "nbconvert_exporter": "python",
   "pygments_lexer": "ipython3",
   "version": "3.8.2"
  }
 },
 "nbformat": 4,
 "nbformat_minor": 4
}
