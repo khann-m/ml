{
 "cells": [
  {
   "cell_type": "code",
   "execution_count": 1,
   "metadata": {},
   "outputs": [],
   "source": [
    "import numpy as np\n",
    "from tensorflow import keras\n",
    "\n",
    "np.set_printoptions(precision=2, formatter={'float':'{:,.2f}'.format})"
   ]
  },
  {
   "cell_type": "code",
   "execution_count": 2,
   "metadata": {},
   "outputs": [],
   "source": [
    "x1 = np.array([x for x in range(50)]).reshape(-1,1)\n",
    "x2 = np.array([10 * x for x in range(50)]).reshape(-1,1)\n",
    "x3 = np.array([0.5 * x for x in reversed(range(50))]).reshape(-1,1)\n",
    "\n",
    "f = (x1 * x2) ** .5"
   ]
  },
  {
   "cell_type": "code",
   "execution_count": 3,
   "metadata": {
    "scrolled": true
   },
   "outputs": [
    {
     "data": {
      "text/plain": [
       "array([[0.00, 0.00, 24.50, 0.00],\n",
       "       [1.00, 10.00, 24.00, 3.16],\n",
       "       [2.00, 20.00, 23.50, 6.32],\n",
       "       [3.00, 30.00, 23.00, 9.49],\n",
       "       [4.00, 40.00, 22.50, 12.65],\n",
       "       [5.00, 50.00, 22.00, 15.81],\n",
       "       [6.00, 60.00, 21.50, 18.97],\n",
       "       [7.00, 70.00, 21.00, 22.14],\n",
       "       [8.00, 80.00, 20.50, 25.30],\n",
       "       [9.00, 90.00, 20.00, 28.46],\n",
       "       [10.00, 100.00, 19.50, 31.62],\n",
       "       [11.00, 110.00, 19.00, 34.79],\n",
       "       [12.00, 120.00, 18.50, 37.95],\n",
       "       [13.00, 130.00, 18.00, 41.11],\n",
       "       [14.00, 140.00, 17.50, 44.27],\n",
       "       [15.00, 150.00, 17.00, 47.43],\n",
       "       [16.00, 160.00, 16.50, 50.60],\n",
       "       [17.00, 170.00, 16.00, 53.76],\n",
       "       [18.00, 180.00, 15.50, 56.92],\n",
       "       [19.00, 190.00, 15.00, 60.08],\n",
       "       [20.00, 200.00, 14.50, 63.25],\n",
       "       [21.00, 210.00, 14.00, 66.41],\n",
       "       [22.00, 220.00, 13.50, 69.57],\n",
       "       [23.00, 230.00, 13.00, 72.73],\n",
       "       [24.00, 240.00, 12.50, 75.89],\n",
       "       [25.00, 250.00, 12.00, 79.06],\n",
       "       [26.00, 260.00, 11.50, 82.22],\n",
       "       [27.00, 270.00, 11.00, 85.38],\n",
       "       [28.00, 280.00, 10.50, 88.54],\n",
       "       [29.00, 290.00, 10.00, 91.71],\n",
       "       [30.00, 300.00, 9.50, 94.87],\n",
       "       [31.00, 310.00, 9.00, 98.03],\n",
       "       [32.00, 320.00, 8.50, 101.19],\n",
       "       [33.00, 330.00, 8.00, 104.36],\n",
       "       [34.00, 340.00, 7.50, 107.52],\n",
       "       [35.00, 350.00, 7.00, 110.68],\n",
       "       [36.00, 360.00, 6.50, 113.84],\n",
       "       [37.00, 370.00, 6.00, 117.00],\n",
       "       [38.00, 380.00, 5.50, 120.17],\n",
       "       [39.00, 390.00, 5.00, 123.33],\n",
       "       [40.00, 400.00, 4.50, 126.49],\n",
       "       [41.00, 410.00, 4.00, 129.65],\n",
       "       [42.00, 420.00, 3.50, 132.82],\n",
       "       [43.00, 430.00, 3.00, 135.98],\n",
       "       [44.00, 440.00, 2.50, 139.14],\n",
       "       [45.00, 450.00, 2.00, 142.30],\n",
       "       [46.00, 460.00, 1.50, 145.46],\n",
       "       [47.00, 470.00, 1.00, 148.63],\n",
       "       [48.00, 480.00, 0.50, 151.79],\n",
       "       [49.00, 490.00, 0.00, 154.95]])"
      ]
     },
     "execution_count": 3,
     "metadata": {},
     "output_type": "execute_result"
    }
   ],
   "source": [
    "data = np.concatenate((x1, x2, x3, f), axis=1)\n",
    "data"
   ]
  },
  {
   "cell_type": "code",
   "execution_count": 4,
   "metadata": {},
   "outputs": [],
   "source": [
    "data[[3,13,33,45,6],1] = np.NaN\n",
    "data[[2,15,40,49],2] = np.NaN\n",
    "data[[1,11,22,44],3] = np.NaN\n",
    "#data[3,[2,12,22]] = np.nanmean(data[:,2])"
   ]
  },
  {
   "cell_type": "code",
   "execution_count": 6,
   "metadata": {},
   "outputs": [
    {
     "data": {
      "text/plain": [
       "0.423210766716244"
      ]
     },
     "execution_count": 6,
     "metadata": {},
     "output_type": "execute_result"
    }
   ],
   "source": [
    "from sklearn.linear_model import LinearRegression\n",
    "from sklearn.ensemble import RandomForestRegressor, GradientBoostingRegressor\n",
    "from sklearn.neural_network import MLPRegressor\n",
    "from sklearn.model_selection import ShuffleSplit, train_test_split\n",
    "from sklearn.impute import SimpleImputer\n",
    "\n",
    "imp = SimpleImputer(strategy='constant', fill_value=0)\n",
    "data = imp.fit_transform(data)\n",
    "\n",
    "alg = MLPRegressor(max_iter=10000, hidden_layer_sizes=(60, 660), random_state=222)\n",
    "\n",
    "data_train, data_test = train_test_split(data, random_state=51)\n",
    "\n",
    "alg.fit(data_train[:,:-1], data_train[:,-1])\n",
    "alg.score(data_test[:,:-1], data_test[:,-1])"
   ]
  },
  {
   "cell_type": "code",
   "execution_count": 8,
   "metadata": {},
   "outputs": [
    {
     "data": {
      "text/plain": [
       "array([1,614.71])"
      ]
     },
     "execution_count": 8,
     "metadata": {},
     "output_type": "execute_result"
    }
   ],
   "source": [
    "alg.predict(np.array([[500,5000,0]]))"
   ]
  },
  {
   "cell_type": "code",
   "execution_count": 196,
   "metadata": {},
   "outputs": [
    {
     "data": {
      "text/plain": [
       "array([[33.00, 0.00, 9.00, 104.36, 7.40],\n",
       "       [14.00, 140.00, 18.50, 44.27, 55.68],\n",
       "       [4.00, 40.00, 23.50, 12.65, 20.03],\n",
       "       [12.00, 120.00, 19.50, 37.95, 48.61],\n",
       "       [49.00, 490.00, 0.00, 154.95, 175.94],\n",
       "       [0.00, 0.00, 1,000.00, 0.00, -29.28],\n",
       "       [34.00, 340.00, 8.50, 107.52, 124.69],\n",
       "       [15.00, 150.00, 0.00, 47.43, 53.92],\n",
       "       [38.00, 380.00, 6.50, 120.17, 138.46],\n",
       "       [31.00, 310.00, 10.00, 98.03, 114.36],\n",
       "       [17.00, 170.00, 17.00, 53.76, 66.16],\n",
       "       [46.00, 460.00, 2.50, 145.46, 166.00],\n",
       "       [2.00, 20.00, 0.00, 6.32, 7.26]])"
      ]
     },
     "execution_count": 196,
     "metadata": {},
     "output_type": "execute_result"
    }
   ],
   "source": [
    "np.concatenate((data_test, alg.predict(data_test[:,:-1]).reshape(-1,1)), axis=1)"
   ]
  },
  {
   "cell_type": "code",
   "execution_count": 204,
   "metadata": {},
   "outputs": [
    {
     "data": {
      "text/plain": [
       "array([2,844.98])"
      ]
     },
     "execution_count": 204,
     "metadata": {},
     "output_type": "execute_result"
    }
   ],
   "source": [
    "alg.predict(np.array([900, 9000, 0]).reshape(1,-1))"
   ]
  },
  {
   "cell_type": "code",
   "execution_count": 206,
   "metadata": {},
   "outputs": [
    {
     "data": {
      "text/plain": [
       "2846.0498941515416"
      ]
     },
     "execution_count": 206,
     "metadata": {},
     "output_type": "execute_result"
    }
   ],
   "source": [
    "(900 * 9000) ** .5"
   ]
  },
  {
   "cell_type": "code",
   "execution_count": 104,
   "metadata": {},
   "outputs": [
    {
     "ename": "NameError",
     "evalue": "name 'SimpleImputer' is not defined",
     "output_type": "error",
     "traceback": [
      "\u001b[0;31m---------------------------------------------------------------------------\u001b[0m",
      "\u001b[0;31mNameError\u001b[0m                                 Traceback (most recent call last)",
      "\u001b[0;32m<ipython-input-104-1dfd0a974d19>\u001b[0m in \u001b[0;36m<module>\u001b[0;34m\u001b[0m\n\u001b[0;32m----> 1\u001b[0;31m \u001b[0mimp\u001b[0m \u001b[0;34m=\u001b[0m \u001b[0mSimpleImputer\u001b[0m\u001b[0;34m(\u001b[0m\u001b[0;34m)\u001b[0m\u001b[0;34m\u001b[0m\u001b[0;34m\u001b[0m\u001b[0m\n\u001b[0m\u001b[1;32m      2\u001b[0m \u001b[0mimp\u001b[0m\u001b[0;34m(\u001b[0m\u001b[0mdata\u001b[0m\u001b[0;34m)\u001b[0m\u001b[0;34m\u001b[0m\u001b[0;34m\u001b[0m\u001b[0m\n",
      "\u001b[0;31mNameError\u001b[0m: name 'SimpleImputer' is not defined"
     ]
    }
   ],
   "source": [
    "imp = SimpleImputer()\n",
    "imp(data)"
   ]
  },
  {
   "cell_type": "code",
   "execution_count": 1,
   "metadata": {},
   "outputs": [
    {
     "ename": "NameError",
     "evalue": "name 'eggholder' is not defined",
     "output_type": "error",
     "traceback": [
      "\u001b[0;31m---------------------------------------------------------------------------\u001b[0m",
      "\u001b[0;31mNameError\u001b[0m                                 Traceback (most recent call last)",
      "\u001b[0;32m<ipython-input-1-e2255f09bd31>\u001b[0m in \u001b[0;36m<module>\u001b[0;34m\u001b[0m\n\u001b[1;32m      1\u001b[0m \u001b[0;32mfrom\u001b[0m \u001b[0mscipy\u001b[0m \u001b[0;32mimport\u001b[0m \u001b[0moptimize\u001b[0m\u001b[0;34m\u001b[0m\u001b[0;34m\u001b[0m\u001b[0m\n\u001b[0;32m----> 2\u001b[0;31m \u001b[0moptimize\u001b[0m\u001b[0;34m.\u001b[0m\u001b[0mshgo\u001b[0m\u001b[0;34m(\u001b[0m\u001b[0meggholder\u001b[0m\u001b[0;34m,\u001b[0m \u001b[0mbounds\u001b[0m\u001b[0;34m)\u001b[0m\u001b[0;34m\u001b[0m\u001b[0;34m\u001b[0m\u001b[0m\n\u001b[0m",
      "\u001b[0;31mNameError\u001b[0m: name 'eggholder' is not defined"
     ]
    }
   ],
   "source": [
    "from scipy import optimize\n",
    "optimize.shgo(eggholder, bounds)"
   ]
  },
  {
   "cell_type": "code",
   "execution_count": null,
   "metadata": {},
   "outputs": [],
   "source": []
  }
 ],
 "metadata": {
  "kernelspec": {
   "display_name": "venv2",
   "language": "python",
   "name": "venv2"
  },
  "language_info": {
   "codemirror_mode": {
    "name": "ipython",
    "version": 3
   },
   "file_extension": ".py",
   "mimetype": "text/x-python",
   "name": "python",
   "nbconvert_exporter": "python",
   "pygments_lexer": "ipython3",
   "version": "3.8.2"
  }
 },
 "nbformat": 4,
 "nbformat_minor": 4
}
