{
 "cells": [
  {
   "cell_type": "code",
   "execution_count": 49,
   "metadata": {},
   "outputs": [
    {
     "name": "stdout",
     "output_type": "stream",
     "text": [
      "aaaba a 5\n",
      "2\n",
      "aabaa a 5\n",
      "1\n"
     ]
    },
    {
     "data": {
      "text/plain": [
       "'aabaa'"
      ]
     },
     "execution_count": 49,
     "metadata": {},
     "output_type": "execute_result"
    }
   ],
   "source": [
    "    def longestPalindrome(s: str):\n",
    "        if not s:\n",
    "            return ''\n",
    "        if len(s) == 1:\n",
    "            return s\n",
    "        if s == s[::-1]:\n",
    "            return s\n",
    "\n",
    "        sub_l_max = 1\n",
    "        sub_max = s[0]\n",
    "\n",
    "        s_flg = 1\n",
    "        sub_l = len(s) // 2 + 1\n",
    "        while s_flg:\n",
    "            sub_flg = 1\n",
    "            i = 0\n",
    "            while sub_flg and i + sub_l <= len(s):\n",
    "                sub = s[i:i+sub_l]\n",
    "                print(sub, sub_max, sub_l)\n",
    "                if sub == sub[::-1] and sub_l > sub_l_max:\n",
    "                    print(1)\n",
    "\n",
    "                    sub_l_max = sub_l\n",
    "                    sub_max = sub\n",
    "                    sub_l = sub_l + (len(s) - sub_l) // 2 + 1\n",
    "                    if sub_l >= len(s):\n",
    "                        s_flg = 0\n",
    "                    sub_flg = 0\n",
    "                else:\n",
    "                    print(2)\n",
    "                    i += 1\n",
    "            if sub_l == 2 or sub_l < sub_l_max:\n",
    "                print(4)\n",
    "                s_flg = 0\n",
    "            if sub_flg == 1:\n",
    "                sub_l = sub_l // 2 + 1\n",
    "        return sub_max\n",
    "\n",
    "    longestPalindrome(\"aaabaaaa\")"
   ]
  },
  {
   "cell_type": "code",
   "execution_count": null,
   "metadata": {},
   "outputs": [],
   "source": [
    "7 // 2 \n",
    "aga\n",
    "\n",
    "3 + 4 // 2\n",
    "\n",
    "agaga\n",
    "\n",
    "----\n",
    "1 + 7 // 2\n",
    "agag gaga ...\n",
    "\n",
    "1 + 4 // 2\n",
    "aga\n",
    "\n",
    "3 + 4 // 2\n",
    "agaga ...\n",
    "\n",
    "5 + 4 // 2\n",
    "\n"
   ]
  }
 ],
 "metadata": {
  "kernelspec": {
   "display_name": "venv2",
   "language": "python",
   "name": "venv2"
  },
  "language_info": {
   "codemirror_mode": {
    "name": "ipython",
    "version": 3
   },
   "file_extension": ".py",
   "mimetype": "text/x-python",
   "name": "python",
   "nbconvert_exporter": "python",
   "pygments_lexer": "ipython3",
   "version": "3.8.2"
  }
 },
 "nbformat": 4,
 "nbformat_minor": 4
}
